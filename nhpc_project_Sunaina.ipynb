{
  "nbformat": 4,
  "nbformat_minor": 0,
  "metadata": {
    "colab": {
      "provenance": []
    },
    "kernelspec": {
      "name": "python3",
      "display_name": "Python 3"
    },
    "language_info": {
      "name": "python"
    }
  },
  "cells": [
    {
      "cell_type": "markdown",
      "source": [
        "# Project Dataset\n"
      ],
      "metadata": {
        "id": "zMSUxa6SEV2P"
      }
    },
    {
      "cell_type": "markdown",
      "source": [
        "**Features** : Date, Time, Water_Level(m),  Discharge_Through_Rating_Curve(cumecs)\n",
        "\n",
        "**Target Variable** : Discharge_Through_Rating_Curve(cumecs)\n",
        "\n",
        "The dataset used in the project was provided by the organization which was collected from the Kiru Project of NHPC, Kishtwar. The dataset deals with varing water discharge w.r.t. water level in monsoon and non-monsoon seasons."
      ],
      "metadata": {
        "id": "UkSwQ-K5B54S"
      }
    },
    {
      "cell_type": "markdown",
      "source": [
        "# Imorting Essential Libraries\n",
        "\n"
      ],
      "metadata": {
        "id": "E83KTuw3ASdY"
      }
    },
    {
      "cell_type": "code",
      "source": [
        "# importing basic libraries\n",
        "import numpy as np\n",
        "import pandas as pd\n",
        "import sklearn"
      ],
      "metadata": {
        "id": "cLUOIDu_cNJO"
      },
      "execution_count": null,
      "outputs": []
    },
    {
      "cell_type": "markdown",
      "source": [
        "# Data Uploading"
      ],
      "metadata": {
        "id": "YDZ-T4rwArbm"
      }
    },
    {
      "cell_type": "code",
      "source": [
        "# Uploading data\n",
        "data = pd.read_csv('water_level_and_discharges.csv')"
      ],
      "metadata": {
        "id": "rixYd9bujv0k"
      },
      "execution_count": null,
      "outputs": []
    },
    {
      "cell_type": "code",
      "source": [
        "import matplotlib.pyplot as plt\n"
      ],
      "metadata": {
        "id": "e5jGQ-I_xcWK"
      },
      "execution_count": null,
      "outputs": []
    },
    {
      "cell_type": "code",
      "source": [
        "data.head()"
      ],
      "metadata": {
        "colab": {
          "base_uri": "https://localhost:8080/",
          "height": 206
        },
        "id": "IRsRpba-xx8I",
        "outputId": "3cbd2b05-d678-4ba6-e8cb-af3682b287c9"
      },
      "execution_count": null,
      "outputs": [
        {
          "output_type": "execute_result",
          "data": {
            "text/plain": [
              "         Date      Time  Water_Level(m)  \\\n",
              "0  13.01.2022  14:00:00          2842.6   \n",
              "1  13.01.2022  15:00:00          2842.5   \n",
              "2  13.01.2022  16:00:00          2842.5   \n",
              "3  13.01.2022  17:00:00          2842.5   \n",
              "4  13.01.2022  18:00:00          2842.5   \n",
              "\n",
              "   Discharge_Through_Rating_Curve(cumecs)  \n",
              "0                                 11.4921  \n",
              "1                                  7.9225  \n",
              "2                                  7.9225  \n",
              "3                                  7.9225  \n",
              "4                                  7.9225  "
            ],
            "text/html": [
              "\n",
              "  <div id=\"df-6b72ebe9-8a3a-471d-8939-12a7f221dd46\">\n",
              "    <div class=\"colab-df-container\">\n",
              "      <div>\n",
              "<style scoped>\n",
              "    .dataframe tbody tr th:only-of-type {\n",
              "        vertical-align: middle;\n",
              "    }\n",
              "\n",
              "    .dataframe tbody tr th {\n",
              "        vertical-align: top;\n",
              "    }\n",
              "\n",
              "    .dataframe thead th {\n",
              "        text-align: right;\n",
              "    }\n",
              "</style>\n",
              "<table border=\"1\" class=\"dataframe\">\n",
              "  <thead>\n",
              "    <tr style=\"text-align: right;\">\n",
              "      <th></th>\n",
              "      <th>Date</th>\n",
              "      <th>Time</th>\n",
              "      <th>Water_Level(m)</th>\n",
              "      <th>Discharge_Through_Rating_Curve(cumecs)</th>\n",
              "    </tr>\n",
              "  </thead>\n",
              "  <tbody>\n",
              "    <tr>\n",
              "      <th>0</th>\n",
              "      <td>13.01.2022</td>\n",
              "      <td>14:00:00</td>\n",
              "      <td>2842.6</td>\n",
              "      <td>11.4921</td>\n",
              "    </tr>\n",
              "    <tr>\n",
              "      <th>1</th>\n",
              "      <td>13.01.2022</td>\n",
              "      <td>15:00:00</td>\n",
              "      <td>2842.5</td>\n",
              "      <td>7.9225</td>\n",
              "    </tr>\n",
              "    <tr>\n",
              "      <th>2</th>\n",
              "      <td>13.01.2022</td>\n",
              "      <td>16:00:00</td>\n",
              "      <td>2842.5</td>\n",
              "      <td>7.9225</td>\n",
              "    </tr>\n",
              "    <tr>\n",
              "      <th>3</th>\n",
              "      <td>13.01.2022</td>\n",
              "      <td>17:00:00</td>\n",
              "      <td>2842.5</td>\n",
              "      <td>7.9225</td>\n",
              "    </tr>\n",
              "    <tr>\n",
              "      <th>4</th>\n",
              "      <td>13.01.2022</td>\n",
              "      <td>18:00:00</td>\n",
              "      <td>2842.5</td>\n",
              "      <td>7.9225</td>\n",
              "    </tr>\n",
              "  </tbody>\n",
              "</table>\n",
              "</div>\n",
              "      <button class=\"colab-df-convert\" onclick=\"convertToInteractive('df-6b72ebe9-8a3a-471d-8939-12a7f221dd46')\"\n",
              "              title=\"Convert this dataframe to an interactive table.\"\n",
              "              style=\"display:none;\">\n",
              "        \n",
              "  <svg xmlns=\"http://www.w3.org/2000/svg\" height=\"24px\"viewBox=\"0 0 24 24\"\n",
              "       width=\"24px\">\n",
              "    <path d=\"M0 0h24v24H0V0z\" fill=\"none\"/>\n",
              "    <path d=\"M18.56 5.44l.94 2.06.94-2.06 2.06-.94-2.06-.94-.94-2.06-.94 2.06-2.06.94zm-11 1L8.5 8.5l.94-2.06 2.06-.94-2.06-.94L8.5 2.5l-.94 2.06-2.06.94zm10 10l.94 2.06.94-2.06 2.06-.94-2.06-.94-.94-2.06-.94 2.06-2.06.94z\"/><path d=\"M17.41 7.96l-1.37-1.37c-.4-.4-.92-.59-1.43-.59-.52 0-1.04.2-1.43.59L10.3 9.45l-7.72 7.72c-.78.78-.78 2.05 0 2.83L4 21.41c.39.39.9.59 1.41.59.51 0 1.02-.2 1.41-.59l7.78-7.78 2.81-2.81c.8-.78.8-2.07 0-2.86zM5.41 20L4 18.59l7.72-7.72 1.47 1.35L5.41 20z\"/>\n",
              "  </svg>\n",
              "      </button>\n",
              "      \n",
              "  <style>\n",
              "    .colab-df-container {\n",
              "      display:flex;\n",
              "      flex-wrap:wrap;\n",
              "      gap: 12px;\n",
              "    }\n",
              "\n",
              "    .colab-df-convert {\n",
              "      background-color: #E8F0FE;\n",
              "      border: none;\n",
              "      border-radius: 50%;\n",
              "      cursor: pointer;\n",
              "      display: none;\n",
              "      fill: #1967D2;\n",
              "      height: 32px;\n",
              "      padding: 0 0 0 0;\n",
              "      width: 32px;\n",
              "    }\n",
              "\n",
              "    .colab-df-convert:hover {\n",
              "      background-color: #E2EBFA;\n",
              "      box-shadow: 0px 1px 2px rgba(60, 64, 67, 0.3), 0px 1px 3px 1px rgba(60, 64, 67, 0.15);\n",
              "      fill: #174EA6;\n",
              "    }\n",
              "\n",
              "    [theme=dark] .colab-df-convert {\n",
              "      background-color: #3B4455;\n",
              "      fill: #D2E3FC;\n",
              "    }\n",
              "\n",
              "    [theme=dark] .colab-df-convert:hover {\n",
              "      background-color: #434B5C;\n",
              "      box-shadow: 0px 1px 3px 1px rgba(0, 0, 0, 0.15);\n",
              "      filter: drop-shadow(0px 1px 2px rgba(0, 0, 0, 0.3));\n",
              "      fill: #FFFFFF;\n",
              "    }\n",
              "  </style>\n",
              "\n",
              "      <script>\n",
              "        const buttonEl =\n",
              "          document.querySelector('#df-6b72ebe9-8a3a-471d-8939-12a7f221dd46 button.colab-df-convert');\n",
              "        buttonEl.style.display =\n",
              "          google.colab.kernel.accessAllowed ? 'block' : 'none';\n",
              "\n",
              "        async function convertToInteractive(key) {\n",
              "          const element = document.querySelector('#df-6b72ebe9-8a3a-471d-8939-12a7f221dd46');\n",
              "          const dataTable =\n",
              "            await google.colab.kernel.invokeFunction('convertToInteractive',\n",
              "                                                     [key], {});\n",
              "          if (!dataTable) return;\n",
              "\n",
              "          const docLinkHtml = 'Like what you see? Visit the ' +\n",
              "            '<a target=\"_blank\" href=https://colab.research.google.com/notebooks/data_table.ipynb>data table notebook</a>'\n",
              "            + ' to learn more about interactive tables.';\n",
              "          element.innerHTML = '';\n",
              "          dataTable['output_type'] = 'display_data';\n",
              "          await google.colab.output.renderOutput(dataTable, element);\n",
              "          const docLink = document.createElement('div');\n",
              "          docLink.innerHTML = docLinkHtml;\n",
              "          element.appendChild(docLink);\n",
              "        }\n",
              "      </script>\n",
              "    </div>\n",
              "  </div>\n",
              "  "
            ]
          },
          "metadata": {},
          "execution_count": 4
        }
      ]
    },
    {
      "cell_type": "code",
      "source": [
        "#ploting graph for raw data\n",
        "plt.xlabel('Date') \n",
        "plt.ylabel('Discharge_Through_Rating_Curve(cumecs)') \n",
        "plt.title(\"Trend of discharge\")\n",
        "plt.plot(data['Date'], data['Discharge_Through_Rating_Curve(cumecs)'])\n",
        "plt.show()"
      ],
      "metadata": {
        "colab": {
          "base_uri": "https://localhost:8080/",
          "height": 295
        },
        "id": "5ZMImU-4xgYR",
        "outputId": "a159b7e1-7e7f-41bc-8264-cfa0a1ff3286"
      },
      "execution_count": null,
      "outputs": [
        {
          "output_type": "display_data",
          "data": {
            "text/plain": [
              "<Figure size 432x288 with 1 Axes>"
            ],
            "image/png": "[encoded data removed]"
          },
          "metadata": {
            "needs_background": "light"
          }
        }
      ]
    },
    {
      "cell_type": "code",
      "source": [
        "data.shape"
      ],
      "metadata": {
        "colab": {
          "base_uri": "https://localhost:8080/"
        },
        "id": "m28OU9QEkHnb",
        "outputId": "e6c1d10d-6a75-472b-e5bb-4d6d9e5c072f"
      },
      "execution_count": null,
      "outputs": [
        {
          "output_type": "execute_result",
          "data": {
            "text/plain": [
              "(33128, 4)"
            ]
          },
          "metadata": {},
          "execution_count": 6
        }
      ]
    },
    {
      "cell_type": "code",
      "source": [
        "data.describe()"
      ],
      "metadata": {
        "colab": {
          "base_uri": "https://localhost:8080/",
          "height": 300
        },
        "id": "emlvCLlNkNzV",
        "outputId": "b2a46f55-4f3a-4978-8cb2-14e4a98d59af"
      },
      "execution_count": null,
      "outputs": [
        {
          "output_type": "execute_result",
          "data": {
            "text/plain": [
              "       Water_Level(m)  Discharge_Through_Rating_Curve(cumecs)\n",
              "count    33128.000000                            33103.000000\n",
              "mean      2840.759705                               75.286291\n",
              "std         79.517391                              116.500745\n",
              "min          0.000000                                3.103300\n",
              "25%       2842.500000                                7.922500\n",
              "50%       2842.500000                                7.922500\n",
              "75%       2843.700000                              127.883900\n",
              "max       2847.300000                              595.212500"
            ],
            "text/html": [
              "\n",
              "  <div id=\"df-7d0299f2-5288-49d2-ac50-dd37419c486d\">\n",
              "    <div class=\"colab-df-container\">\n",
              "      <div>\n",
              "<style scoped>\n",
              "    .dataframe tbody tr th:only-of-type {\n",
              "        vertical-align: middle;\n",
              "    }\n",
              "\n",
              "    .dataframe tbody tr th {\n",
              "        vertical-align: top;\n",
              "    }\n",
              "\n",
              "    .dataframe thead th {\n",
              "        text-align: right;\n",
              "    }\n",
              "</style>\n",
              "<table border=\"1\" class=\"dataframe\">\n",
              "  <thead>\n",
              "    <tr style=\"text-align: right;\">\n",
              "      <th></th>\n",
              "      <th>Water_Level(m)</th>\n",
              "      <th>Discharge_Through_Rating_Curve(cumecs)</th>\n",
              "    </tr>\n",
              "  </thead>\n",
              "  <tbody>\n",
              "    <tr>\n",
              "      <th>count</th>\n",
              "      <td>33128.000000</td>\n",
              "      <td>33103.000000</td>\n",
              "    </tr>\n",
              "    <tr>\n",
              "      <th>mean</th>\n",
              "      <td>2840.759705</td>\n",
              "      <td>75.286291</td>\n",
              "    </tr>\n",
              "    <tr>\n",
              "      <th>std</th>\n",
              "      <td>79.517391</td>\n",
              "      <td>116.500745</td>\n",
              "    </tr>\n",
              "    <tr>\n",
              "      <th>min</th>\n",
              "      <td>0.000000</td>\n",
              "      <td>3.103300</td>\n",
              "    </tr>\n",
              "    <tr>\n",
              "      <th>25%</th>\n",
              "      <td>2842.500000</td>\n",
              "      <td>7.922500</td>\n",
              "    </tr>\n",
              "    <tr>\n",
              "      <th>50%</th>\n",
              "      <td>2842.500000</td>\n",
              "      <td>7.922500</td>\n",
              "    </tr>\n",
              "    <tr>\n",
              "      <th>75%</th>\n",
              "      <td>2843.700000</td>\n",
              "      <td>127.883900</td>\n",
              "    </tr>\n",
              "    <tr>\n",
              "      <th>max</th>\n",
              "      <td>2847.300000</td>\n",
              "      <td>595.212500</td>\n",
              "    </tr>\n",
              "  </tbody>\n",
              "</table>\n",
              "</div>\n",
              "      <button class=\"colab-df-convert\" onclick=\"convertToInteractive('df-7d0299f2-5288-49d2-ac50-dd37419c486d')\"\n",
              "              title=\"Convert this dataframe to an interactive table.\"\n",
              "              style=\"display:none;\">\n",
              "        \n",
              "  <svg xmlns=\"http://www.w3.org/2000/svg\" height=\"24px\"viewBox=\"0 0 24 24\"\n",
              "       width=\"24px\">\n",
              "    <path d=\"M0 0h24v24H0V0z\" fill=\"none\"/>\n",
              "    <path d=\"M18.56 5.44l.94 2.06.94-2.06 2.06-.94-2.06-.94-.94-2.06-.94 2.06-2.06.94zm-11 1L8.5 8.5l.94-2.06 2.06-.94-2.06-.94L8.5 2.5l-.94 2.06-2.06.94zm10 10l.94 2.06.94-2.06 2.06-.94-2.06-.94-.94-2.06-.94 2.06-2.06.94z\"/><path d=\"M17.41 7.96l-1.37-1.37c-.4-.4-.92-.59-1.43-.59-.52 0-1.04.2-1.43.59L10.3 9.45l-7.72 7.72c-.78.78-.78 2.05 0 2.83L4 21.41c.39.39.9.59 1.41.59.51 0 1.02-.2 1.41-.59l7.78-7.78 2.81-2.81c.8-.78.8-2.07 0-2.86zM5.41 20L4 18.59l7.72-7.72 1.47 1.35L5.41 20z\"/>\n",
              "  </svg>\n",
              "      </button>\n",
              "      \n",
              "  <style>\n",
              "    .colab-df-container {\n",
              "      display:flex;\n",
              "      flex-wrap:wrap;\n",
              "      gap: 12px;\n",
              "    }\n",
              "\n",
              "    .colab-df-convert {\n",
              "      background-color: #E8F0FE;\n",
              "      border: none;\n",
              "      border-radius: 50%;\n",
              "      cursor: pointer;\n",
              "      display: none;\n",
              "      fill: #1967D2;\n",
              "      height: 32px;\n",
              "      padding: 0 0 0 0;\n",
              "      width: 32px;\n",
              "    }\n",
              "\n",
              "    .colab-df-convert:hover {\n",
              "      background-color: #E2EBFA;\n",
              "      box-shadow: 0px 1px 2px rgba(60, 64, 67, 0.3), 0px 1px 3px 1px rgba(60, 64, 67, 0.15);\n",
              "      fill: #174EA6;\n",
              "    }\n",
              "\n",
              "    [theme=dark] .colab-df-convert {\n",
              "      background-color: #3B4455;\n",
              "      fill: #D2E3FC;\n",
              "    }\n",
              "\n",
              "    [theme=dark] .colab-df-convert:hover {\n",
              "      background-color: #434B5C;\n",
              "      box-shadow: 0px 1px 3px 1px rgba(0, 0, 0, 0.15);\n",
              "      filter: drop-shadow(0px 1px 2px rgba(0, 0, 0, 0.3));\n",
              "      fill: #FFFFFF;\n",
              "    }\n",
              "  </style>\n",
              "\n",
              "      <script>\n",
              "        const buttonEl =\n",
              "          document.querySelector('#df-7d0299f2-5288-49d2-ac50-dd37419c486d button.colab-df-convert');\n",
              "        buttonEl.style.display =\n",
              "          google.colab.kernel.accessAllowed ? 'block' : 'none';\n",
              "\n",
              "        async function convertToInteractive(key) {\n",
              "          const element = document.querySelector('#df-7d0299f2-5288-49d2-ac50-dd37419c486d');\n",
              "          const dataTable =\n",
              "            await google.colab.kernel.invokeFunction('convertToInteractive',\n",
              "                                                     [key], {});\n",
              "          if (!dataTable) return;\n",
              "\n",
              "          const docLinkHtml = 'Like what you see? Visit the ' +\n",
              "            '<a target=\"_blank\" href=https://colab.research.google.com/notebooks/data_table.ipynb>data table notebook</a>'\n",
              "            + ' to learn more about interactive tables.';\n",
              "          element.innerHTML = '';\n",
              "          dataTable['output_type'] = 'display_data';\n",
              "          await google.colab.output.renderOutput(dataTable, element);\n",
              "          const docLink = document.createElement('div');\n",
              "          docLink.innerHTML = docLinkHtml;\n",
              "          element.appendChild(docLink);\n",
              "        }\n",
              "      </script>\n",
              "    </div>\n",
              "  </div>\n",
              "  "
            ]
          },
          "metadata": {},
          "execution_count": 7
        }
      ]
    },
    {
      "cell_type": "markdown",
      "source": [
        "# Data Preprocessing"
      ],
      "metadata": {
        "id": "0wAAz7OrA71R"
      }
    },
    {
      "cell_type": "code",
      "source": [
        "# finding if there are null values\n",
        "data.isna().sum()"
      ],
      "metadata": {
        "colab": {
          "base_uri": "https://localhost:8080/"
        },
        "id": "NW6kLzkkkToi",
        "outputId": "8c3bf08f-0533-46c4-d9be-870b67e3a23d"
      },
      "execution_count": null,
      "outputs": [
        {
          "output_type": "execute_result",
          "data": {
            "text/plain": [
              "Date                                       0\n",
              "Time                                       0\n",
              "Water_Level(m)                             0\n",
              "Discharge_Through_Rating_Curve(cumecs)    25\n",
              "dtype: int64"
            ]
          },
          "metadata": {},
          "execution_count": 8
        }
      ]
    },
    {
      "cell_type": "markdown",
      "source": [
        "Correlation"
      ],
      "metadata": {
        "id": "KDPBvYTUUCZG"
      }
    },
    {
      "cell_type": "markdown",
      "source": [
        "![Screenshot 2022-09-08 181406.png](data:image/png;base64,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)"
      ],
      "metadata": {
        "id": "FJxAe-ffMMH9"
      }
    },
    {
      "cell_type": "code",
      "source": [
        "# fining relationship between water level and discharge\n",
        "# Correlation determines if two variables have a linear relationship while regression describes the cause and effect between the two.\n",
        "# As the correlation is very low for this data regression can't be used\n",
        "#Checking if linear/logistic regression can be implemented\n",
        "data['Water_Level(m)'].corr(data['Discharge_Through_Rating_Curve(cumecs)'])"
      ],
      "metadata": {
        "colab": {
          "base_uri": "https://localhost:8080/"
        },
        "id": "eyU478UPkape",
        "outputId": "dc83dc10-4153-41e9-8f50-6b699413f8e5"
      },
      "execution_count": null,
      "outputs": [
        {
          "output_type": "execute_result",
          "data": {
            "text/plain": [
              "0.042638790106287766"
            ]
          },
          "metadata": {},
          "execution_count": 9
        }
      ]
    },
    {
      "cell_type": "code",
      "source": [
        "#droping null values\n",
        "data.dropna()"
      ],
      "metadata": {
        "colab": {
          "base_uri": "https://localhost:8080/",
          "height": 423
        },
        "id": "cDVZgf_Fl_I-",
        "outputId": "84710355-50f6-4900-b766-f4adb42f35c6"
      },
      "execution_count": null,
      "outputs": [
        {
          "output_type": "execute_result",
          "data": {
            "text/plain": [
              "             Date      Time  Water_Level(m)  \\\n",
              "0      13.01.2022  14:00:00          2842.6   \n",
              "1      13.01.2022  15:00:00          2842.5   \n",
              "2      13.01.2022  16:00:00          2842.5   \n",
              "3      13.01.2022  17:00:00          2842.5   \n",
              "4      13.01.2022  18:00:00          2842.5   \n",
              "...           ...       ...             ...   \n",
              "33123  29.08.2022  12:40:00          2843.6   \n",
              "33124  29.08.2022  12:50:00          2843.6   \n",
              "33125  29.08.2022  13:00:00          2843.6   \n",
              "33126  29.08.2022  13:10:00          2843.5   \n",
              "33127  29.08.2022  13:20:00          2843.6   \n",
              "\n",
              "       Discharge_Through_Rating_Curve(cumecs)  \n",
              "0                                     11.4921  \n",
              "1                                      7.9225  \n",
              "2                                      7.9225  \n",
              "3                                      7.9225  \n",
              "4                                      7.9225  \n",
              "...                                       ...  \n",
              "33123                                110.0041  \n",
              "33124                                110.0041  \n",
              "33125                                110.0041  \n",
              "33126                                 93.8129  \n",
              "33127                                110.0041  \n",
              "\n",
              "[33103 rows x 4 columns]"
            ],
            "text/html": [
              "\n",
              "  <div id=\"df-06864e9a-bab4-4096-b750-a17d44c2f72b\">\n",
              "    <div class=\"colab-df-container\">\n",
              "      <div>\n",
              "<style scoped>\n",
              "    .dataframe tbody tr th:only-of-type {\n",
              "        vertical-align: middle;\n",
              "    }\n",
              "\n",
              "    .dataframe tbody tr th {\n",
              "        vertical-align: top;\n",
              "    }\n",
              "\n",
              "    .dataframe thead th {\n",
              "        text-align: right;\n",
              "    }\n",
              "</style>\n",
              "<table border=\"1\" class=\"dataframe\">\n",
              "  <thead>\n",
              "    <tr style=\"text-align: right;\">\n",
              "      <th></th>\n",
              "      <th>Date</th>\n",
              "      <th>Time</th>\n",
              "      <th>Water_Level(m)</th>\n",
              "      <th>Discharge_Through_Rating_Curve(cumecs)</th>\n",
              "    </tr>\n",
              "  </thead>\n",
              "  <tbody>\n",
              "    <tr>\n",
              "      <th>0</th>\n",
              "      <td>13.01.2022</td>\n",
              "      <td>14:00:00</td>\n",
              "      <td>2842.6</td>\n",
              "      <td>11.4921</td>\n",
              "    </tr>\n",
              "    <tr>\n",
              "      <th>1</th>\n",
              "      <td>13.01.2022</td>\n",
              "      <td>15:00:00</td>\n",
              "      <td>2842.5</td>\n",
              "      <td>7.9225</td>\n",
              "    </tr>\n",
              "    <tr>\n",
              "      <th>2</th>\n",
              "      <td>13.01.2022</td>\n",
              "      <td>16:00:00</td>\n",
              "      <td>2842.5</td>\n",
              "      <td>7.9225</td>\n",
              "    </tr>\n",
              "    <tr>\n",
              "      <th>3</th>\n",
              "      <td>13.01.2022</td>\n",
              "      <td>17:00:00</td>\n",
              "      <td>2842.5</td>\n",
              "      <td>7.9225</td>\n",
              "    </tr>\n",
              "    <tr>\n",
              "      <th>4</th>\n",
              "      <td>13.01.2022</td>\n",
              "      <td>18:00:00</td>\n",
              "      <td>2842.5</td>\n",
              "      <td>7.9225</td>\n",
              "    </tr>\n",
              "    <tr>\n",
              "      <th>...</th>\n",
              "      <td>...</td>\n",
              "      <td>...</td>\n",
              "      <td>...</td>\n",
              "      <td>...</td>\n",
              "    </tr>\n",
              "    <tr>\n",
              "      <th>33123</th>\n",
              "      <td>29.08.2022</td>\n",
              "      <td>12:40:00</td>\n",
              "      <td>2843.6</td>\n",
              "      <td>110.0041</td>\n",
              "    </tr>\n",
              "    <tr>\n",
              "      <th>33124</th>\n",
              "      <td>29.08.2022</td>\n",
              "      <td>12:50:00</td>\n",
              "      <td>2843.6</td>\n",
              "      <td>110.0041</td>\n",
              "    </tr>\n",
              "    <tr>\n",
              "      <th>33125</th>\n",
              "      <td>29.08.2022</td>\n",
              "      <td>13:00:00</td>\n",
              "      <td>2843.6</td>\n",
              "      <td>110.0041</td>\n",
              "    </tr>\n",
              "    <tr>\n",
              "      <th>33126</th>\n",
              "      <td>29.08.2022</td>\n",
              "      <td>13:10:00</td>\n",
              "      <td>2843.5</td>\n",
              "      <td>93.8129</td>\n",
              "    </tr>\n",
              "    <tr>\n",
              "      <th>33127</th>\n",
              "      <td>29.08.2022</td>\n",
              "      <td>13:20:00</td>\n",
              "      <td>2843.6</td>\n",
              "      <td>110.0041</td>\n",
              "    </tr>\n",
              "  </tbody>\n",
              "</table>\n",
              "<p>33103 rows × 4 columns</p>\n",
              "</div>\n",
              "      <button class=\"colab-df-convert\" onclick=\"convertToInteractive('df-06864e9a-bab4-4096-b750-a17d44c2f72b')\"\n",
              "              title=\"Convert this dataframe to an interactive table.\"\n",
              "              style=\"display:none;\">\n",
              "        \n",
              "  <svg xmlns=\"http://www.w3.org/2000/svg\" height=\"24px\"viewBox=\"0 0 24 24\"\n",
              "       width=\"24px\">\n",
              "    <path d=\"M0 0h24v24H0V0z\" fill=\"none\"/>\n",
              "    <path d=\"M18.56 5.44l.94 2.06.94-2.06 2.06-.94-2.06-.94-.94-2.06-.94 2.06-2.06.94zm-11 1L8.5 8.5l.94-2.06 2.06-.94-2.06-.94L8.5 2.5l-.94 2.06-2.06.94zm10 10l.94 2.06.94-2.06 2.06-.94-2.06-.94-.94-2.06-.94 2.06-2.06.94z\"/><path d=\"M17.41 7.96l-1.37-1.37c-.4-.4-.92-.59-1.43-.59-.52 0-1.04.2-1.43.59L10.3 9.45l-7.72 7.72c-.78.78-.78 2.05 0 2.83L4 21.41c.39.39.9.59 1.41.59.51 0 1.02-.2 1.41-.59l7.78-7.78 2.81-2.81c.8-.78.8-2.07 0-2.86zM5.41 20L4 18.59l7.72-7.72 1.47 1.35L5.41 20z\"/>\n",
              "  </svg>\n",
              "      </button>\n",
              "      \n",
              "  <style>\n",
              "    .colab-df-container {\n",
              "      display:flex;\n",
              "      flex-wrap:wrap;\n",
              "      gap: 12px;\n",
              "    }\n",
              "\n",
              "    .colab-df-convert {\n",
              "      background-color: #E8F0FE;\n",
              "      border: none;\n",
              "      border-radius: 50%;\n",
              "      cursor: pointer;\n",
              "      display: none;\n",
              "      fill: #1967D2;\n",
              "      height: 32px;\n",
              "      padding: 0 0 0 0;\n",
              "      width: 32px;\n",
              "    }\n",
              "\n",
              "    .colab-df-convert:hover {\n",
              "      background-color: #E2EBFA;\n",
              "      box-shadow: 0px 1px 2px rgba(60, 64, 67, 0.3), 0px 1px 3px 1px rgba(60, 64, 67, 0.15);\n",
              "      fill: #174EA6;\n",
              "    }\n",
              "\n",
              "    [theme=dark] .colab-df-convert {\n",
              "      background-color: #3B4455;\n",
              "      fill: #D2E3FC;\n",
              "    }\n",
              "\n",
              "    [theme=dark] .colab-df-convert:hover {\n",
              "      background-color: #434B5C;\n",
              "      box-shadow: 0px 1px 3px 1px rgba(0, 0, 0, 0.15);\n",
              "      filter: drop-shadow(0px 1px 2px rgba(0, 0, 0, 0.3));\n",
              "      fill: #FFFFFF;\n",
              "    }\n",
              "  </style>\n",
              "\n",
              "      <script>\n",
              "        const buttonEl =\n",
              "          document.querySelector('#df-06864e9a-bab4-4096-b750-a17d44c2f72b button.colab-df-convert');\n",
              "        buttonEl.style.display =\n",
              "          google.colab.kernel.accessAllowed ? 'block' : 'none';\n",
              "\n",
              "        async function convertToInteractive(key) {\n",
              "          const element = document.querySelector('#df-06864e9a-bab4-4096-b750-a17d44c2f72b');\n",
              "          const dataTable =\n",
              "            await google.colab.kernel.invokeFunction('convertToInteractive',\n",
              "                                                     [key], {});\n",
              "          if (!dataTable) return;\n",
              "\n",
              "          const docLinkHtml = 'Like what you see? Visit the ' +\n",
              "            '<a target=\"_blank\" href=https://colab.research.google.com/notebooks/data_table.ipynb>data table notebook</a>'\n",
              "            + ' to learn more about interactive tables.';\n",
              "          element.innerHTML = '';\n",
              "          dataTable['output_type'] = 'display_data';\n",
              "          await google.colab.output.renderOutput(dataTable, element);\n",
              "          const docLink = document.createElement('div');\n",
              "          docLink.innerHTML = docLinkHtml;\n",
              "          element.appendChild(docLink);\n",
              "        }\n",
              "      </script>\n",
              "    </div>\n",
              "  </div>\n",
              "  "
            ]
          },
          "metadata": {},
          "execution_count": 10
        }
      ]
    },
    {
      "cell_type": "code",
      "source": [
        "# Finding how many unique values are there in the the given data after removing null values\n",
        "dates = data['Date'].unique()\n",
        "dates"
      ],
      "metadata": {
        "colab": {
          "base_uri": "https://localhost:8080/"
        },
        "id": "IOJKejC5nlOe",
        "outputId": "c65b7125-0a8a-4a20-ec3f-adffb02eeda4"
      },
      "execution_count": null,
      "outputs": [
        {
          "output_type": "execute_result",
          "data": {
            "text/plain": [
              "array(['13.01.2022', '14.01.2022', '15.01.2022', '16.01.2022',\n",
              "       '17.01.2022', '18.01.2022', '19.01.2022', '20.01.2022',\n",
              "       '21.01.2022', '22.01.2022', '23.01.2022', '24.01.2022',\n",
              "       '25.01.2022', '26.01.2022', '27.01.2022', '28.01.2022',\n",
              "       '29.01.2022', '30.01.2022', '31.01.2022', '01.02.2022',\n",
              "       '02.02.2022', '03.02.2022', '04.02.2022', '05.02.2022',\n",
              "       '06.02.2022', '07.02.2022', '08.02.2022', '09.02.2022',\n",
              "       '10.02.2022', '11.02.2022', '12.02.2022', '13.02.2022',\n",
              "       '14.02.2022', '15.02.2022', '16.02.2022', '17.02.2022',\n",
              "       '18.02.2022', '19.02.2022', '20.02.2022', '21.02.2022',\n",
              "       '22.02.2022', '23.02.2022', '24.02.2022', '25.02.2022',\n",
              "       '26.02.2022', '27.02.2022', '28.02.2022', '01.03.2022',\n",
              "       '02.03.2022', '03.03.2022', '04.03.2022', '05.03.2022',\n",
              "       '06.03.2022', '07.03.2022', '08.03.2022', '09.03.2022',\n",
              "       '10.03.2022', '11.03.2022', '12.03.2022', '13.03.2022',\n",
              "       '14.03.2022', '15.03.2022', '16.03.2022', '17.03.2022',\n",
              "       '18.03.2022', '19.03.2022', '20.03.2022', '21.03.2022',\n",
              "       '22.03.2022', '23.03.2022', '24.03.2022', '25.03.2022',\n",
              "       '26.03.2022', '27.03.2022', '28.03.2022', '29.03.2022',\n",
              "       '30.03.2022', '31.03.2022', '01.04.2022', '02.04.2022',\n",
              "       '03.04.2022', '04.04.2022', '05.04.2022', '06.04.2022',\n",
              "       '07.04.2022', '08.04.2022', '09.04.2022', '10.04.2022',\n",
              "       '11.04.2022', '12.04.2022', '13.04.2022', '14.04.2022',\n",
              "       '15.04.2022', '16.04.2022', '17.04.2022', '18.04.2022',\n",
              "       '19.04.2022', '20.04.2022', '21.04.2022', '22.04.2022',\n",
              "       '23.04.2022', '24.04.2022', '25.04.2022', '26.04.2022',\n",
              "       '27.04.2022', '28.04.2022', '29.04.2022', '30.04.2022',\n",
              "       '01.05.2022', '02.05.2022', '03.05.2022', '04.05.2022',\n",
              "       '05.05.2022', '06.05.2022', '07.05.2022', '08.05.2022',\n",
              "       '09.05.2022', '10.05.2022', '11.05.2022', '12.05.2022',\n",
              "       '13.05.2022', '14.05.2022', '15.05.2022', '16.05.2022',\n",
              "       '17.05.2022', '18.05.2022', '19.05.2022', '20.05.2022',\n",
              "       '21.05.2022', '22.05.2022', '23.05.2022', '24.05.2022',\n",
              "       '25.05.2022', '26.05.2022', '27.05.2022', '28.05.2022',\n",
              "       '29.05.2022', '30.05.2022', '31.05.2022', '01.06.2022',\n",
              "       '02.06.2022', '03.06.2022', '04.06.2022', '05.06.2022',\n",
              "       '06.06.2022', '07.06.2022', '08.06.2022', '09.06.2022',\n",
              "       '10.06.2022', '11.06.2022', '12.06.2022', '13.06.2022',\n",
              "       '14.06.2022', '15.06.2022', '16.06.2022', '17.06.2022',\n",
              "       '18.06.2022', '19.06.2022', '20.06.2022', '21.06.2022',\n",
              "       '22.06.2022', '23.06.2022', '24.06.2022', '25.06.2022',\n",
              "       '26.06.2022', '27.06.2022', '28.06.2022', '29.06.2022',\n",
              "       '30.06.2022', '01.07.2022', '02.07.2022', '03.07.2022',\n",
              "       '04.07.2022', '05.07.2022', '06.07.2022', '07.07.2022',\n",
              "       '08.07.2022', '09.07.2022', '10.07.2022', '11.07.2022',\n",
              "       '12.07.2022', '13.07.2022', '14.07.2022', '15.07.2022',\n",
              "       '16.07.2022', '17.07.2022', '18.07.2022', '19.07.2022',\n",
              "       '20.07.2022', '21.07.2022', '22.07.2022', '23.07.2022',\n",
              "       '24.07.2022', '25.07.2022', '26.07.2022', '27.07.2022',\n",
              "       '28.07.2022', '29.07.2022', '30.07.2022', '31.07.2022',\n",
              "       '01.08.2022', '02.08.2022', '03.08.2022', '04.08.2022',\n",
              "       '05.08.2022', '06.08.2022', '07.08.2022', '08.08.2022',\n",
              "       '09.08.2022', '10.08.2022', '11.08.2022', '12.08.2022',\n",
              "       '13.08.2022', '14.08.2022', '15.08.2022', '16.08.2022',\n",
              "       '17.08.2022', '18.08.2022', '19.08.2022', '20.08.2022',\n",
              "       '21.08.2022', '22.08.2022', '23.08.2022', '24.08.2022',\n",
              "       '25.08.2022', '26.08.2022', '27.08.2022', '28.08.2022',\n",
              "       '29.08.2022'], dtype=object)"
            ]
          },
          "metadata": {},
          "execution_count": 11
        }
      ]
    },
    {
      "cell_type": "code",
      "source": [
        "# data manipulation so that we have onne data for every date\n",
        "# taking mean of all the given hours for water level for that particular day\n",
        "d = []\n",
        "for i in dates:\n",
        "  d.append(data['Water_Level(m)'].where(data['Date'] == i).mean()) \n",
        "\n",
        "d"
      ],
      "metadata": {
        "colab": {
          "base_uri": "https://localhost:8080/"
        },
        "id": "cQ8yhXEJoKGz",
        "outputId": "9fa641d3-6b6a-4f67-ad1d-4b7a3cc0228e"
      },
      "execution_count": null,
      "outputs": [
        {
          "output_type": "execute_result",
          "data": {
            "text/plain": [
              "[2842.5099999999998,\n",
              " 2842.504166666667,\n",
              " 2842.5375,\n",
              " 2842.508333333333,\n",
              " 2842.508333333333,\n",
              " 2842.5208333333335,\n",
              " 2842.513043478261,\n",
              " 2842.5208333333335,\n",
              " 2842.5166666666664,\n",
              " 2842.5166666666664,\n",
              " 2842.504166666667,\n",
              " 2842.5099999999998,\n",
              " 2842.5208333333335,\n",
              " 2842.5166666666664,\n",
              " 2842.5500000000006,\n",
              " 2729.7680000000005,\n",
              " 2353.872413793103,\n",
              " 2437.5178571428573,\n",
              " 2842.529166666667,\n",
              " 2842.525,\n",
              " 2842.522916666667,\n",
              " 2842.5187499999997,\n",
              " 2842.529166666667,\n",
              " 2842.5833333333335,\n",
              " 2842.508333333333,\n",
              " 2842.529166666667,\n",
              " 2842.5375,\n",
              " 2842.5565217391304,\n",
              " 2842.566666666667,\n",
              " 2842.504761904762,\n",
              " 2842.5,\n",
              " 2842.5,\n",
              " 2842.5,\n",
              " 2842.5,\n",
              " 2842.5,\n",
              " 2842.5,\n",
              " 2842.5,\n",
              " 2842.5,\n",
              " 2842.5,\n",
              " 2842.5,\n",
              " 2842.5,\n",
              " 2842.5005,\n",
              " 2842.5,\n",
              " 2842.5,\n",
              " 2842.5,\n",
              " 2842.5212500000002,\n",
              " 2842.550416666667,\n",
              " 2842.5520833333335,\n",
              " 2842.550434782609,\n",
              " 2842.5475,\n",
              " 2842.5602916666667,\n",
              " 2842.5591666666664,\n",
              " 2842.5575000000003,\n",
              " 2842.554166666667,\n",
              " 2842.547916666667,\n",
              " 2842.545,\n",
              " 2842.5458333333336,\n",
              " 2842.5495833333334,\n",
              " 2842.5533333333333,\n",
              " 2842.552916666667,\n",
              " 2842.5508333333332,\n",
              " 2842.5475,\n",
              " 2842.5470833333334,\n",
              " 2842.539166666667,\n",
              " 2842.5433333333335,\n",
              " 2842.545833333333,\n",
              " 2842.540833333333,\n",
              " 2842.54625,\n",
              " 2842.545,\n",
              " 2842.5429166666668,\n",
              " 2842.5520833333335,\n",
              " 2842.5441666666666,\n",
              " 2842.5458333333336,\n",
              " 2842.578866279069,\n",
              " 2842.551230101302,\n",
              " 2842.5530523255807,\n",
              " 2842.5570809248547,\n",
              " 2842.5513748191024,\n",
              " 2842.5483500717355,\n",
              " 2842.5429629629625,\n",
              " 2842.553471196454,\n",
              " 2842.552071005917,\n",
              " 2842.5453313253006,\n",
              " 2842.5380126182963,\n",
              " 2842.53358662614,\n",
              " 2842.52751091703,\n",
              " 2842.5,\n",
              " 2842.5287878787876,\n",
              " 2842.5263464337695,\n",
              " 2842.5003007518794,\n",
              " 2842.5028985507247,\n",
              " 2842.525072886297,\n",
              " 2842.529792746114,\n",
              " 2842.5,\n",
              " 2842.5236111111103,\n",
              " 2842.517730496454,\n",
              " 2842.5,\n",
              " 2842.5,\n",
              " 2842.5,\n",
              " 2842.5186046511626,\n",
              " 2842.5292307692303,\n",
              " 2842.540298507462,\n",
              " 2820.6384615384613,\n",
              " 2842.5439393939387,\n",
              " 2842.5404255319145,\n",
              " 2842.5211678832115,\n",
              " 2842.503623188406,\n",
              " 2842.5,\n",
              " 2842.5007194244604,\n",
              " 2842.5,\n",
              " 2842.5,\n",
              " 2821.7518248175184,\n",
              " 2842.5,\n",
              " 2842.5,\n",
              " 2842.5,\n",
              " 2842.5,\n",
              " 2842.5,\n",
              " 2842.4928571428572,\n",
              " 2842.44552238806,\n",
              " 2842.4354330708666,\n",
              " 2842.4347457627123,\n",
              " 2842.434677419355,\n",
              " 2794.239830508475,\n",
              " 2775.82578125,\n",
              " 2821.2813432835824,\n",
              " 2842.4890625,\n",
              " 2842.449230769231,\n",
              " 2842.4666666666667,\n",
              " 2842.5,\n",
              " 2842.5,\n",
              " 2842.5,\n",
              " 2842.5,\n",
              " 2842.5,\n",
              " 2842.5,\n",
              " 2842.4828571428575,\n",
              " 2842.4455882352945,\n",
              " 2842.4711111111114,\n",
              " 2842.482945736434,\n",
              " 2842.4859259259256,\n",
              " 2842.488888888889,\n",
              " 2842.5,\n",
              " 2842.4978260869566,\n",
              " 2842.458088235294,\n",
              " 2842.449275362319,\n",
              " 2842.434558823529,\n",
              " 2842.4000000000005,\n",
              " 2842.4000000000005,\n",
              " 2842.400000000001,\n",
              " 2842.4000000000005,\n",
              " 2842.400000000001,\n",
              " 2842.423484848485,\n",
              " 2842.437857142858,\n",
              " 2842.4231343283586,\n",
              " 2842.3985185185193,\n",
              " 2842.400000000001,\n",
              " 2842.8634782608697,\n",
              " 2843.4088888888887,\n",
              " 2843.277099236642,\n",
              " 2843.163703703703,\n",
              " 2843.187969924811,\n",
              " 2843.085185185185,\n",
              " 2843.0360294117645,\n",
              " 2843.070992366412,\n",
              " 2843.17037037037,\n",
              " 2843.4225352112676,\n",
              " 2843.578102189781,\n",
              " 2843.779562043796,\n",
              " 2844.058450704226,\n",
              " 2844.259722222222,\n",
              " 2844.369444444444,\n",
              " 2844.4875912408756,\n",
              " 2844.5507142857145,\n",
              " 2844.6283687943264,\n",
              " 2844.543356643357,\n",
              " 2844.384285714286,\n",
              " 2844.2937499999994,\n",
              " 2844.374825174825,\n",
              " 2844.4295774647885,\n",
              " 2844.2131386861315,\n",
              " 2844.0729166666665,\n",
              " 2844.066666666667,\n",
              " 2844.07062937063,\n",
              " 2843.8567375886523,\n",
              " 2843.7993055555553,\n",
              " 2843.68345323741,\n",
              " 2843.6419117647056,\n",
              " 2843.841958041958,\n",
              " 2844.1232394366198,\n",
              " 2844.2460992907804,\n",
              " 2844.1457746478877,\n",
              " 2844.1496503496505,\n",
              " 2844.2159722222223,\n",
              " 2844.40979020979,\n",
              " 2844.7375886524824,\n",
              " 2844.544366197183,\n",
              " 2844.4832167832164,\n",
              " 2844.454225352112,\n",
              " 2844.439855072464,\n",
              " 2844.4042857142854,\n",
              " 2844.295588235294,\n",
              " 2844.070895522388,\n",
              " 2843.884782608695,\n",
              " 2843.9141843971624,\n",
              " 2843.932846715328,\n",
              " 2843.9579710144926,\n",
              " 2843.894927536232,\n",
              " 2844.0052238805965,\n",
              " 2844.1380597014927,\n",
              " 2823.12,\n",
              " 2844.3185714285714,\n",
              " 2844.2658914728677,\n",
              " 2844.1583333333338,\n",
              " 2844.23,\n",
              " 2844.372027972028,\n",
              " 2844.4542253521126,\n",
              " 2844.3027777777775,\n",
              " 2802.0814814814817,\n",
              " 2803.599285714286,\n",
              " 2822.9195488721807,\n",
              " 2844.28273381295,\n",
              " 2844.1838028169013,\n",
              " 2823.656115107914,\n",
              " 2844.1035211267613,\n",
              " 2844.1292857142857,\n",
              " 2823.032592592592,\n",
              " 2844.035971223021,\n",
              " 2844.007638888889,\n",
              " 2843.9617021276595,\n",
              " 2843.9074074074074]"
            ]
          },
          "metadata": {},
          "execution_count": 12
        }
      ]
    },
    {
      "cell_type": "code",
      "source": [
        "# taking mean of all the given hours for wwater discharge for that particular day\n",
        "e = []\n",
        "for i in dates:\n",
        "  e.append(data['Discharge_Through_Rating_Curve(cumecs)'].where(data['Date'] == i).mean())\n",
        "\n",
        "e"
      ],
      "metadata": {
        "colab": {
          "base_uri": "https://localhost:8080/"
        },
        "id": "vMdvCFLopWzy",
        "outputId": "22acd032-c728-47af-89d2-0716d538c4be"
      },
      "execution_count": null,
      "outputs": [
        {
          "output_type": "execute_result",
          "data": {
            "text/plain": [
              "[8.27946,\n",
              " 8.071233333333334,\n",
              " 9.2611,\n",
              " 8.219966666666666,\n",
              " 8.219966666666666,\n",
              " 8.666166666666667,\n",
              " 8.388100000000001,\n",
              " 8.666166666666667,\n",
              " 8.517433333333335,\n",
              " 8.517433333333335,\n",
              " 8.071233333333334,\n",
              " 8.27946,\n",
              " 8.666166666666667,\n",
              " 8.517433333333335,\n",
              " 9.7073,\n",
              " 9.7073,\n",
              " 8.368700000000002,\n",
              " 8.666166666666667,\n",
              " 8.963633333333334,\n",
              " 8.770691666666666,\n",
              " 8.691904166666667,\n",
              " 8.587379166666667,\n",
              " 8.963633333333334,\n",
              " 10.897166666666669,\n",
              " 8.219966666666666,\n",
              " 8.963633333333334,\n",
              " 9.2611,\n",
              " 9.9401,\n",
              " 10.302233333333334,\n",
              " 8.092480952380953,\n",
              " 7.9225,\n",
              " 7.9225,\n",
              " 7.922500000000002,\n",
              " 7.9225,\n",
              " 7.9225,\n",
              " 7.922500000000001,\n",
              " 7.9225,\n",
              " 7.9225,\n",
              " 7.9225,\n",
              " 7.9225,\n",
              " 7.9225,\n",
              " 7.935804166666667,\n",
              " 7.9225,\n",
              " 7.9225,\n",
              " 7.9225,\n",
              " 8.643650000000001,\n",
              " 9.619770833333334,\n",
              " 9.678154166666667,\n",
              " 9.620965217391303,\n",
              " 9.516249999999998,\n",
              " 9.977395833333333,\n",
              " 9.931933333333333,\n",
              " 9.871799999999999,\n",
              " 9.751883333333334,\n",
              " 9.527783333333334,\n",
              " 9.42535,\n",
              " 9.454366666666667,\n",
              " 9.592545833333332,\n",
              " 9.727516666666666,\n",
              " 9.712833333333334,\n",
              " 9.63695,\n",
              " 9.5145,\n",
              " 9.499466666666665,\n",
              " 9.222975,\n",
              " 9.366266666666666,\n",
              " 9.454366666666667,\n",
              " 9.278166666666666,\n",
              " 9.471874999999999,\n",
              " 9.4264,\n",
              " 9.3557875,\n",
              " 9.679525,\n",
              " 9.396695833333334,\n",
              " 9.463216666666666,\n",
              " 10.734456976744186,\n",
              " 9.751209696092618,\n",
              " 9.816255813953488,\n",
              " 9.960060693641617,\n",
              " 9.75637554269175,\n",
              " 9.648404160688665,\n",
              " 9.456105925925927,\n",
              " 9.831207828655835,\n",
              " 9.781226627218935,\n",
              " 9.540646987951806,\n",
              " 9.279398422712932,\n",
              " 9.12140820668693,\n",
              " 8.904529694323143,\n",
              " 7.9225,\n",
              " 8.950112121212118,\n",
              " 8.86296229985444,\n",
              " 7.933235639097744,\n",
              " 8.025966666666665,\n",
              " 8.817501749271138,\n",
              " 8.985981865284973,\n",
              " 7.9225,\n",
              " 8.765322222222222,\n",
              " 8.555407801418442,\n",
              " 7.922500000000001,\n",
              " 7.922500000000001,\n",
              " 7.9225,\n",
              " 8.586611627906976,\n",
              " 8.96592153846154,\n",
              " 9.360995522388059,\n",
              " 8.060856589147287,\n",
              " 9.490960606060606,\n",
              " 9.365529787234042,\n",
              " 8.678108759124088,\n",
              " 8.051833333333333,\n",
              " 7.9225,\n",
              " 7.948180575539569,\n",
              " 7.922500000000002,\n",
              " 7.922500000000001,\n",
              " 7.9225,\n",
              " 7.922500000000001,\n",
              " 7.922499999999999,\n",
              " 7.9225,\n",
              " 7.922499999999999,\n",
              " 7.922500000000001,\n",
              " 7.72495,\n",
              " 6.415812686567163,\n",
              " 6.136772440944881,\n",
              " 6.117763559322034,\n",
              " 6.115873387096774,\n",
              " 5.609802586206897,\n",
              " 6.4179592,\n",
              " 7.756142105263158,\n",
              " 7.620001562500001,\n",
              " 6.518375384615384,\n",
              " 7.0006,\n",
              " 7.9225,\n",
              " 7.922500000000001,\n",
              " 7.922500000000002,\n",
              " 7.922500000000001,\n",
              " 7.922499999999999,\n",
              " 7.922500000000001,\n",
              " 7.448380000000002,\n",
              " 6.417633823529412,\n",
              " 7.123519999999999,\n",
              " 7.45083023255814,\n",
              " 7.5332533333333345,\n",
              " 7.615200000000001,\n",
              " 7.922500000000001,\n",
              " 7.862376086956522,\n",
              " 6.763346323529412,\n",
              " 6.519608695652174,\n",
              " 6.112593382352942,\n",
              " 5.156799999999999,\n",
              " 5.1568,\n",
              " 5.1568,\n",
              " 5.1568,\n",
              " 5.1568,\n",
              " 5.806320454545454,\n",
              " 6.2038150000000005,\n",
              " 5.796626119402985,\n",
              " 5.126377777777776,\n",
              " 5.156799999999999,\n",
              " 39.8623547826087,\n",
              " 80.96562888888886,\n",
              " 64.02821679389311,\n",
              " 51.181151111111106,\n",
              " 47.08479624060149,\n",
              " 43.14931555555555,\n",
              " 38.936661764705875,\n",
              " 42.273621374045796,\n",
              " 52.41117703703703,\n",
              " 83.60065281690139,\n",
              " 108.34185474452555,\n",
              " 148.20052408759125,\n",
              " 212.7624147887324,\n",
              " 268.2406472222222,\n",
              " 302.23121944444443,\n",
              " 341.54334233576645,\n",
              " 364.54197142857146,\n",
              " 396.25895390070923,\n",
              " 361.07700139860134,\n",
              " 304.2248085714286,\n",
              " 276.79468680555556,\n",
              " 302.9670342657343,\n",
              " 318.05851056338025,\n",
              " 251.4707401459854,\n",
              " 213.43824791666665,\n",
              " 213.75191134751773,\n",
              " 212.55120979020978,\n",
              " 161.7570120567376,\n",
              " 147.83493680555557,\n",
              " 125.16619352517986,\n",
              " 118.57307941176471,\n",
              " 161.0910853146853,\n",
              " 231.05784366197182,\n",
              " 262.7890361702128,\n",
              " 235.33454225352116,\n",
              " 237.89432657342658,\n",
              " 256.7284715277778,\n",
              " 318.61728881118887,\n",
              " 433.2147035460992,\n",
              " 362.29362957746474,\n",
              " 342.02743006993006,\n",
              " 328.8216274647887,\n",
              " 322.2011557971015,\n",
              " 313.33270428571427,\n",
              " 276.0564698529412,\n",
              " 211.34128208955224,\n",
              " 168.80200507246377,\n",
              " 176.35531276595748,\n",
              " 180.00017299270073,\n",
              " 184.56942753623187,\n",
              " 169.62448623188408,\n",
              " 200.87707686567165,\n",
              " 231.39522537313434,\n",
              " 247.8617895522388,\n",
              " 285.9378121428572,\n",
              " 268.3786147286822,\n",
              " 236.83504374999998,\n",
              " 262.81012357142856,\n",
              " 305.48512167832166,\n",
              " 327.8520852112676,\n",
              " 279.9709423611111,\n",
              " 253.03193533834593,\n",
              " 260.50892826086965,\n",
              " 283.7658568181818,\n",
              " 275.1943136690648,\n",
              " 247.75731478873243,\n",
              " 227.76586884057969,\n",
              " 224.94212676056338,\n",
              " 230.12980071428572,\n",
              " 219.04733407407406,\n",
              " 204.71467841726619,\n",
              " 199.66998819444441,\n",
              " 188.3368964539007,\n",
              " 174.48231604938275]"
            ]
          },
          "metadata": {},
          "execution_count": 13
        }
      ]
    },
    {
      "cell_type": "code",
      "source": [
        "# creating new dataframe from newly formed array \n",
        "f = pd.DataFrame({'Date': dates,\n",
        "     'Water Level Avg': d, \n",
        "     'Discharge Avg': e})\n",
        "\n",
        "f"
      ],
      "metadata": {
        "colab": {
          "base_uri": "https://localhost:8080/",
          "height": 423
        },
        "id": "LOGmC54gp3dE",
        "outputId": "23100333-9dfc-439d-e4ea-a7865f663f9c"
      },
      "execution_count": null,
      "outputs": [
        {
          "output_type": "execute_result",
          "data": {
            "text/plain": [
              "           Date  Water Level Avg  Discharge Avg\n",
              "0    13.01.2022      2842.510000       8.279460\n",
              "1    14.01.2022      2842.504167       8.071233\n",
              "2    15.01.2022      2842.537500       9.261100\n",
              "3    16.01.2022      2842.508333       8.219967\n",
              "4    17.01.2022      2842.508333       8.219967\n",
              "..          ...              ...            ...\n",
              "224  25.08.2022      2823.032593     219.047334\n",
              "225  26.08.2022      2844.035971     204.714678\n",
              "226  27.08.2022      2844.007639     199.669988\n",
              "227  28.08.2022      2843.961702     188.336896\n",
              "228  29.08.2022      2843.907407     174.482316\n",
              "\n",
              "[229 rows x 3 columns]"
            ],
            "text/html": [
              "\n",
              "  <div id=\"df-236d1de4-7ec5-4fa2-9b55-6d1fd574fc74\">\n",
              "    <div class=\"colab-df-container\">\n",
              "      <div>\n",
              "<style scoped>\n",
              "    .dataframe tbody tr th:only-of-type {\n",
              "        vertical-align: middle;\n",
              "    }\n",
              "\n",
              "    .dataframe tbody tr th {\n",
              "        vertical-align: top;\n",
              "    }\n",
              "\n",
              "    .dataframe thead th {\n",
              "        text-align: right;\n",
              "    }\n",
              "</style>\n",
              "<table border=\"1\" class=\"dataframe\">\n",
              "  <thead>\n",
              "    <tr style=\"text-align: right;\">\n",
              "      <th></th>\n",
              "      <th>Date</th>\n",
              "      <th>Water Level Avg</th>\n",
              "      <th>Discharge Avg</th>\n",
              "    </tr>\n",
              "  </thead>\n",
              "  <tbody>\n",
              "    <tr>\n",
              "      <th>0</th>\n",
              "      <td>13.01.2022</td>\n",
              "      <td>2842.510000</td>\n",
              "      <td>8.279460</td>\n",
              "    </tr>\n",
              "    <tr>\n",
              "      <th>1</th>\n",
              "      <td>14.01.2022</td>\n",
              "      <td>2842.504167</td>\n",
              "      <td>8.071233</td>\n",
              "    </tr>\n",
              "    <tr>\n",
              "      <th>2</th>\n",
              "      <td>15.01.2022</td>\n",
              "      <td>2842.537500</td>\n",
              "      <td>9.261100</td>\n",
              "    </tr>\n",
              "    <tr>\n",
              "      <th>3</th>\n",
              "      <td>16.01.2022</td>\n",
              "      <td>2842.508333</td>\n",
              "      <td>8.219967</td>\n",
              "    </tr>\n",
              "    <tr>\n",
              "      <th>4</th>\n",
              "      <td>17.01.2022</td>\n",
              "      <td>2842.508333</td>\n",
              "      <td>8.219967</td>\n",
              "    </tr>\n",
              "    <tr>\n",
              "      <th>...</th>\n",
              "      <td>...</td>\n",
              "      <td>...</td>\n",
              "      <td>...</td>\n",
              "    </tr>\n",
              "    <tr>\n",
              "      <th>224</th>\n",
              "      <td>25.08.2022</td>\n",
              "      <td>2823.032593</td>\n",
              "      <td>219.047334</td>\n",
              "    </tr>\n",
              "    <tr>\n",
              "      <th>225</th>\n",
              "      <td>26.08.2022</td>\n",
              "      <td>2844.035971</td>\n",
              "      <td>204.714678</td>\n",
              "    </tr>\n",
              "    <tr>\n",
              "      <th>226</th>\n",
              "      <td>27.08.2022</td>\n",
              "      <td>2844.007639</td>\n",
              "      <td>199.669988</td>\n",
              "    </tr>\n",
              "    <tr>\n",
              "      <th>227</th>\n",
              "      <td>28.08.2022</td>\n",
              "      <td>2843.961702</td>\n",
              "      <td>188.336896</td>\n",
              "    </tr>\n",
              "    <tr>\n",
              "      <th>228</th>\n",
              "      <td>29.08.2022</td>\n",
              "      <td>2843.907407</td>\n",
              "      <td>174.482316</td>\n",
              "    </tr>\n",
              "  </tbody>\n",
              "</table>\n",
              "<p>229 rows × 3 columns</p>\n",
              "</div>\n",
              "      <button class=\"colab-df-convert\" onclick=\"convertToInteractive('df-236d1de4-7ec5-4fa2-9b55-6d1fd574fc74')\"\n",
              "              title=\"Convert this dataframe to an interactive table.\"\n",
              "              style=\"display:none;\">\n",
              "        \n",
              "  <svg xmlns=\"http://www.w3.org/2000/svg\" height=\"24px\"viewBox=\"0 0 24 24\"\n",
              "       width=\"24px\">\n",
              "    <path d=\"M0 0h24v24H0V0z\" fill=\"none\"/>\n",
              "    <path d=\"M18.56 5.44l.94 2.06.94-2.06 2.06-.94-2.06-.94-.94-2.06-.94 2.06-2.06.94zm-11 1L8.5 8.5l.94-2.06 2.06-.94-2.06-.94L8.5 2.5l-.94 2.06-2.06.94zm10 10l.94 2.06.94-2.06 2.06-.94-2.06-.94-.94-2.06-.94 2.06-2.06.94z\"/><path d=\"M17.41 7.96l-1.37-1.37c-.4-.4-.92-.59-1.43-.59-.52 0-1.04.2-1.43.59L10.3 9.45l-7.72 7.72c-.78.78-.78 2.05 0 2.83L4 21.41c.39.39.9.59 1.41.59.51 0 1.02-.2 1.41-.59l7.78-7.78 2.81-2.81c.8-.78.8-2.07 0-2.86zM5.41 20L4 18.59l7.72-7.72 1.47 1.35L5.41 20z\"/>\n",
              "  </svg>\n",
              "      </button>\n",
              "      \n",
              "  <style>\n",
              "    .colab-df-container {\n",
              "      display:flex;\n",
              "      flex-wrap:wrap;\n",
              "      gap: 12px;\n",
              "    }\n",
              "\n",
              "    .colab-df-convert {\n",
              "      background-color: #E8F0FE;\n",
              "      border: none;\n",
              "      border-radius: 50%;\n",
              "      cursor: pointer;\n",
              "      display: none;\n",
              "      fill: #1967D2;\n",
              "      height: 32px;\n",
              "      padding: 0 0 0 0;\n",
              "      width: 32px;\n",
              "    }\n",
              "\n",
              "    .colab-df-convert:hover {\n",
              "      background-color: #E2EBFA;\n",
              "      box-shadow: 0px 1px 2px rgba(60, 64, 67, 0.3), 0px 1px 3px 1px rgba(60, 64, 67, 0.15);\n",
              "      fill: #174EA6;\n",
              "    }\n",
              "\n",
              "    [theme=dark] .colab-df-convert {\n",
              "      background-color: #3B4455;\n",
              "      fill: #D2E3FC;\n",
              "    }\n",
              "\n",
              "    [theme=dark] .colab-df-convert:hover {\n",
              "      background-color: #434B5C;\n",
              "      box-shadow: 0px 1px 3px 1px rgba(0, 0, 0, 0.15);\n",
              "      filter: drop-shadow(0px 1px 2px rgba(0, 0, 0, 0.3));\n",
              "      fill: #FFFFFF;\n",
              "    }\n",
              "  </style>\n",
              "\n",
              "      <script>\n",
              "        const buttonEl =\n",
              "          document.querySelector('#df-236d1de4-7ec5-4fa2-9b55-6d1fd574fc74 button.colab-df-convert');\n",
              "        buttonEl.style.display =\n",
              "          google.colab.kernel.accessAllowed ? 'block' : 'none';\n",
              "\n",
              "        async function convertToInteractive(key) {\n",
              "          const element = document.querySelector('#df-236d1de4-7ec5-4fa2-9b55-6d1fd574fc74');\n",
              "          const dataTable =\n",
              "            await google.colab.kernel.invokeFunction('convertToInteractive',\n",
              "                                                     [key], {});\n",
              "          if (!dataTable) return;\n",
              "\n",
              "          const docLinkHtml = 'Like what you see? Visit the ' +\n",
              "            '<a target=\"_blank\" href=https://colab.research.google.com/notebooks/data_table.ipynb>data table notebook</a>'\n",
              "            + ' to learn more about interactive tables.';\n",
              "          element.innerHTML = '';\n",
              "          dataTable['output_type'] = 'display_data';\n",
              "          await google.colab.output.renderOutput(dataTable, element);\n",
              "          const docLink = document.createElement('div');\n",
              "          docLink.innerHTML = docLinkHtml;\n",
              "          element.appendChild(docLink);\n",
              "        }\n",
              "      </script>\n",
              "    </div>\n",
              "  </div>\n",
              "  "
            ]
          },
          "metadata": {},
          "execution_count": 14
        }
      ]
    },
    {
      "cell_type": "markdown",
      "source": [],
      "metadata": {
        "id": "_UFPy9E-Bg-M"
      }
    },
    {
      "cell_type": "markdown",
      "source": [
        "# Ploting Graph for new data set"
      ],
      "metadata": {
        "id": "LCsF7PGABmGh"
      }
    },
    {
      "cell_type": "code",
      "source": [
        "# ploting water level wrt date\n",
        "plt.xlabel('Date') \n",
        "plt.ylabel('Discharge_Through_Rating_Curve(cumecs)') \n",
        "plt.title(\"Trend of discharge after data preprocessing\")\n",
        "import matplotlib.pyplot as plt\n",
        "plt.plot(f['Date'],f['Discharge Avg'])"
      ],
      "metadata": {
        "colab": {
          "base_uri": "https://localhost:8080/",
          "height": 313
        },
        "id": "SyEomL2TqF3q",
        "outputId": "d4d898ac-b21e-4bd7-b73f-7378cce4b85d"
      },
      "execution_count": null,
      "outputs": [
        {
          "output_type": "execute_result",
          "data": {
            "text/plain": [
              "[<matplotlib.lines.Line2D at 0x7fabe6146d00>]"
            ]
          },
          "metadata": {},
          "execution_count": 15
        },
        {
          "output_type": "display_data",
          "data": {
            "text/plain": [
              "<Figure size 432x288 with 1 Axes>"
            ],
            "image/png": "[encoded data removed]"
          },
          "metadata": {
            "needs_background": "light"
          }
        }
      ]
    },
    {
      "cell_type": "code",
      "source": [
        "# Rolling averages are useful for finding long-term trends otherwise disguised by occasional fluctuations.\n",
        "rollmean = f['Discharge Avg'].rolling(window = 5).mean()"
      ],
      "metadata": {
        "id": "44A3LKVbtmUC"
      },
      "execution_count": null,
      "outputs": []
    },
    {
      "cell_type": "code",
      "source": [
        "rollmean"
      ],
      "metadata": {
        "id": "aoBbwbuyu921",
        "outputId": "39e32564-e04e-4660-949b-ce1a450cf438",
        "colab": {
          "base_uri": "https://localhost:8080/"
        }
      },
      "execution_count": null,
      "outputs": [
        {
          "output_type": "execute_result",
          "data": {
            "text/plain": [
              "0             NaN\n",
              "1             NaN\n",
              "2             NaN\n",
              "3             NaN\n",
              "4        8.410345\n",
              "          ...    \n",
              "224    229.928489\n",
              "225    221.319962\n",
              "226    215.700786\n",
              "227    208.379740\n",
              "228    197.250243\n",
              "Name: Discharge Avg, Length: 229, dtype: float64"
            ]
          },
          "metadata": {},
          "execution_count": 17
        }
      ]
    },
    {
      "cell_type": "code",
      "source": [
        "# graph ploting\n",
        "plt.xlabel('Date') \n",
        "plt.ylabel('Discharge Avg') \n",
        "plt.title(\"Rollingmean\")\n",
        "plt.plot(f['Date'],f['Discharge Avg'], color = 'blue')\n",
        "plt.plot(f['Date'],rollmean, color = 'red')"
      ],
      "metadata": {
        "colab": {
          "base_uri": "https://localhost:8080/",
          "height": 313
        },
        "id": "HEn2zRuYt0cj",
        "outputId": "a08bfad5-228d-4b96-9fd7-64e88ee0674f"
      },
      "execution_count": null,
      "outputs": [
        {
          "output_type": "execute_result",
          "data": {
            "text/plain": [
              "[<matplotlib.lines.Line2D at 0x7fabe5a4b820>]"
            ]
          },
          "metadata": {},
          "execution_count": 18
        },
        {
          "output_type": "display_data",
          "data": {
            "text/plain": [
              "<Figure size 432x288 with 1 Axes>"
            ],
            "image/png": "[encoded data removed]"
          },
          "metadata": {
            "needs_background": "light"
          }
        }
      ]
    },
    {
      "cell_type": "markdown",
      "source": [
        "# Splitting and Training of Dataset"
      ],
      "metadata": {
        "id": "RtRqm0TvBwBk"
      }
    },
    {
      "cell_type": "code",
      "source": [
        "# Splitting into test and train \n",
        "size = len(f['Discharge Avg'])\n",
        "train = f['Discharge Avg'][:int((0.7*size))]\n",
        "test = f['Discharge Avg'][int((0.7*size)):]"
      ],
      "metadata": {
        "id": "mV9Hxvdnu373"
      },
      "execution_count": null,
      "outputs": []
    },
    {
      "cell_type": "markdown",
      "source": [
        "# K Means Clustering"
      ],
      "metadata": {
        "id": "NDRQmdK8CAR-"
      }
    },
    {
      "cell_type": "code",
      "source": [
        "import seaborn as sns\n",
        "sns.set()\n",
        "from sklearn.cluster import KMeans"
      ],
      "metadata": {
        "id": "gSZnX0EsdHvO"
      },
      "execution_count": null,
      "outputs": []
    },
    {
      "cell_type": "code",
      "source": [
        "x = f.iloc[:,1:2]"
      ],
      "metadata": {
        "id": "uTjt-PH5dJE6"
      },
      "execution_count": null,
      "outputs": []
    },
    {
      "cell_type": "code",
      "source": [
        "kmeans = KMeans(3)\n",
        "kmeans.fit(x)"
      ],
      "metadata": {
        "colab": {
          "base_uri": "https://localhost:8080/"
        },
        "id": "iSz04bNvdUdb",
        "outputId": "856dbd2f-4672-4ab0-e985-2c1bd1185746"
      },
      "execution_count": null,
      "outputs": [
        {
          "output_type": "execute_result",
          "data": {
            "text/plain": [
              "KMeans(n_clusters=3)"
            ]
          },
          "metadata": {},
          "execution_count": 22
        }
      ]
    },
    {
      "cell_type": "code",
      "source": [
        "identified_clusters = kmeans.fit_predict(x)\n",
        "identified_clusters"
      ],
      "metadata": {
        "colab": {
          "base_uri": "https://localhost:8080/"
        },
        "id": "jiCVEc_QdzP0",
        "outputId": "cfb91af0-66d2-4d46-f4d3-d9b3b3bec53d"
      },
      "execution_count": null,
      "outputs": [
        {
          "output_type": "execute_result",
          "data": {
            "text/plain": [
              "array([0, 0, 0, 0, 0, 0, 0, 0, 0, 0, 0, 0, 0, 0, 0, 2, 1, 1, 0, 0, 0, 0,\n",
              "       0, 0, 0, 0, 0, 0, 0, 0, 0, 0, 0, 0, 0, 0, 0, 0, 0, 0, 0, 0, 0, 0,\n",
              "       0, 0, 0, 0, 0, 0, 0, 0, 0, 0, 0, 0, 0, 0, 0, 0, 0, 0, 0, 0, 0, 0,\n",
              "       0, 0, 0, 0, 0, 0, 0, 0, 0, 0, 0, 0, 0, 0, 0, 0, 0, 0, 0, 0, 0, 0,\n",
              "       0, 0, 0, 0, 0, 0, 0, 0, 0, 0, 0, 0, 0, 0, 0, 0, 0, 0, 0, 0, 0, 0,\n",
              "       0, 0, 0, 0, 0, 0, 0, 0, 0, 0, 0, 0, 2, 2, 0, 0, 0, 0, 0, 0, 0, 0,\n",
              "       0, 0, 0, 0, 0, 0, 0, 0, 0, 0, 0, 0, 0, 0, 0, 0, 0, 0, 0, 0, 0, 0,\n",
              "       0, 0, 0, 0, 0, 0, 0, 0, 0, 0, 0, 0, 0, 0, 0, 0, 0, 0, 0, 0, 0, 0,\n",
              "       0, 0, 0, 0, 0, 0, 0, 0, 0, 0, 0, 0, 0, 0, 0, 0, 0, 0, 0, 0, 0, 0,\n",
              "       0, 0, 0, 0, 0, 0, 0, 0, 0, 0, 0, 0, 0, 0, 0, 0, 0, 0, 2, 2, 0, 0,\n",
              "       0, 0, 0, 0, 0, 0, 0, 0, 0], dtype=int32)"
            ]
          },
          "metadata": {},
          "execution_count": 23
        }
      ]
    },
    {
      "cell_type": "code",
      "source": [
        "data_with_clusters = f.copy()\n",
        "data_with_clusters['Clusters'] = identified_clusters \n",
        "plt.scatter(data_with_clusters['Date'],data_with_clusters['Discharge Avg'],c=data_with_clusters['Clusters'],cmap='rainbow')"
      ],
      "metadata": {
        "colab": {
          "base_uri": "https://localhost:8080/",
          "height": 286
        },
        "id": "xmdLqcVXd_hp",
        "outputId": "bbab955a-6e34-4251-ded3-82f664b30b9d"
      },
      "execution_count": null,
      "outputs": [
        {
          "output_type": "execute_result",
          "data": {
            "text/plain": [
              "<matplotlib.collections.PathCollection at 0x7fabe606aa00>"
            ]
          },
          "metadata": {},
          "execution_count": 24
        },
        {
          "output_type": "display_data",
          "data": {
            "text/plain": [
              "<Figure size 432x288 with 1 Axes>"
            ],
            "image/png": "[encoded data removed]"
          },
          "metadata": {}
        }
      ]
    },
    {
      "cell_type": "code",
      "source": [
        "model = KMeans(n_clusters=25, init='k-means++',random_state=32)"
      ],
      "metadata": {
        "id": "dBSxcwhswoUR"
      },
      "execution_count": null,
      "outputs": []
    },
    {
      "cell_type": "code",
      "source": [
        "from sklearn.preprocessing import MinMaxScaler\n",
        "scaler = MinMaxScaler()\n",
        "x_scaled = scaler.fit_transform(x)"
      ],
      "metadata": {
        "id": "3q2SJoxRwphC"
      },
      "execution_count": null,
      "outputs": []
    },
    {
      "cell_type": "code",
      "source": [
        "print(x_scaled[:])"
      ],
      "metadata": {
        "colab": {
          "base_uri": "https://localhost:8080/"
        },
        "id": "Q4_cFugBxCyW",
        "outputId": "e6007dec-3f00-4ddd-93d3-33bb7c21de83"
      },
      "execution_count": null,
      "outputs": [
        {
          "output_type": "stream",
          "name": "stdout",
          "text": [
            "[[0.99546191]\n",
            " [0.99545003]\n",
            " [0.99551794]\n",
            " [0.99545852]\n",
            " [0.99545852]\n",
            " [0.99548398]\n",
            " [0.99546811]\n",
            " [0.99548398]\n",
            " [0.99547549]\n",
            " [0.99547549]\n",
            " [0.99545003]\n",
            " [0.99546191]\n",
            " [0.99548398]\n",
            " [0.99547549]\n",
            " [0.9955434 ]\n",
            " [0.76578174]\n",
            " [0.        ]\n",
            " [0.17040411]\n",
            " [0.99550096]\n",
            " [0.99549247]\n",
            " [0.99548823]\n",
            " [0.99547974]\n",
            " [0.99550096]\n",
            " [0.99561131]\n",
            " [0.99545852]\n",
            " [0.99550096]\n",
            " [0.99551794]\n",
            " [0.99555669]\n",
            " [0.99557736]\n",
            " [0.99545124]\n",
            " [0.99544154]\n",
            " [0.99544154]\n",
            " [0.99544154]\n",
            " [0.99544154]\n",
            " [0.99544154]\n",
            " [0.99544154]\n",
            " [0.99544154]\n",
            " [0.99544154]\n",
            " [0.99544154]\n",
            " [0.99544154]\n",
            " [0.99544154]\n",
            " [0.99544256]\n",
            " [0.99544154]\n",
            " [0.99544154]\n",
            " [0.99544154]\n",
            " [0.99548483]\n",
            " [0.99554425]\n",
            " [0.99554765]\n",
            " [0.99554429]\n",
            " [0.99553831]\n",
            " [0.99556437]\n",
            " [0.99556208]\n",
            " [0.99555868]\n",
            " [0.99555189]\n",
            " [0.99553916]\n",
            " [0.99553322]\n",
            " [0.99553491]\n",
            " [0.99554255]\n",
            " [0.99555019]\n",
            " [0.99554934]\n",
            " [0.9955451 ]\n",
            " [0.99553831]\n",
            " [0.99553746]\n",
            " [0.99552133]\n",
            " [0.99552982]\n",
            " [0.99553491]\n",
            " [0.99552473]\n",
            " [0.99553576]\n",
            " [0.99553322]\n",
            " [0.99552897]\n",
            " [0.99554765]\n",
            " [0.99553152]\n",
            " [0.99553491]\n",
            " [0.99560221]\n",
            " [0.99554591]\n",
            " [0.99554962]\n",
            " [0.99555783]\n",
            " [0.9955462 ]\n",
            " [0.99554004]\n",
            " [0.99552907]\n",
            " [0.99555047]\n",
            " [0.99554762]\n",
            " [0.99553389]\n",
            " [0.99551898]\n",
            " [0.99550996]\n",
            " [0.99549759]\n",
            " [0.99544154]\n",
            " [0.99550019]\n",
            " [0.99549521]\n",
            " [0.99544215]\n",
            " [0.99544745]\n",
            " [0.99549262]\n",
            " [0.99550224]\n",
            " [0.99544154]\n",
            " [0.99548964]\n",
            " [0.99547766]\n",
            " [0.99544154]\n",
            " [0.99544154]\n",
            " [0.99544154]\n",
            " [0.99547944]\n",
            " [0.99550109]\n",
            " [0.99552364]\n",
            " [0.95090479]\n",
            " [0.99553106]\n",
            " [0.9955239 ]\n",
            " [0.99548466]\n",
            " [0.99544892]\n",
            " [0.99544154]\n",
            " [0.99544301]\n",
            " [0.99544154]\n",
            " [0.99544154]\n",
            " [0.95317296]\n",
            " [0.99544154]\n",
            " [0.99544154]\n",
            " [0.99544154]\n",
            " [0.99544154]\n",
            " [0.99544154]\n",
            " [0.99542699]\n",
            " [0.99533056]\n",
            " [0.99531   ]\n",
            " [0.9953086 ]\n",
            " [0.99530846]\n",
            " [0.89712499]\n",
            " [0.85961154]\n",
            " [0.95221448]\n",
            " [0.99541926]\n",
            " [0.99533811]\n",
            " [0.99537363]\n",
            " [0.99544154]\n",
            " [0.99544154]\n",
            " [0.99544154]\n",
            " [0.99544154]\n",
            " [0.99544154]\n",
            " [0.99544154]\n",
            " [0.99540662]\n",
            " [0.99533069]\n",
            " [0.99538269]\n",
            " [0.9954068 ]\n",
            " [0.99541287]\n",
            " [0.99541891]\n",
            " [0.99544154]\n",
            " [0.99543711]\n",
            " [0.99535616]\n",
            " [0.9953382 ]\n",
            " [0.99530822]\n",
            " [0.99523782]\n",
            " [0.99523782]\n",
            " [0.99523782]\n",
            " [0.99523782]\n",
            " [0.99523782]\n",
            " [0.99528566]\n",
            " [0.99531494]\n",
            " [0.99528495]\n",
            " [0.9952348 ]\n",
            " [0.99523782]\n",
            " [0.99618203]\n",
            " [0.99729315]\n",
            " [0.99702466]\n",
            " [0.99679365]\n",
            " [0.99684309]\n",
            " [0.99663369]\n",
            " [0.99653355]\n",
            " [0.99660478]\n",
            " [0.99680723]\n",
            " [0.99732095]\n",
            " [0.99763787]\n",
            " [0.99804829]\n",
            " [0.99861645]\n",
            " [0.99902648]\n",
            " [0.99925001]\n",
            " [0.9994907 ]\n",
            " [0.9996193 ]\n",
            " [0.9997775 ]\n",
            " [0.99960431]\n",
            " [0.99928024]\n",
            " [0.9990958 ]\n",
            " [0.99926097]\n",
            " [0.99937251]\n",
            " [0.99893158]\n",
            " [0.99864592]\n",
            " [0.99863318]\n",
            " [0.99864126]\n",
            " [0.99820551]\n",
            " [0.99808851]\n",
            " [0.9978525 ]\n",
            " [0.99776787]\n",
            " [0.9981754 ]\n",
            " [0.99874844]\n",
            " [0.99899873]\n",
            " [0.99879435]\n",
            " [0.99880224]\n",
            " [0.99893735]\n",
            " [0.9993322 ]\n",
            " [1.        ]\n",
            " [0.99960636]\n",
            " [0.99948179]\n",
            " [0.99942273]\n",
            " [0.99939345]\n",
            " [0.99932099]\n",
            " [0.99909955]\n",
            " [0.9986418 ]\n",
            " [0.99826265]\n",
            " [0.99832254]\n",
            " [0.99836056]\n",
            " [0.99841175]\n",
            " [0.99828331]\n",
            " [0.99850801]\n",
            " [0.99877863]\n",
            " [0.95596023]\n",
            " [0.99914637]\n",
            " [0.99903905]\n",
            " [0.99881993]\n",
            " [0.99896593]\n",
            " [0.99925527]\n",
            " [0.99942273]\n",
            " [0.99911419]\n",
            " [0.91310016]\n",
            " [0.91619226]\n",
            " [0.95555187]\n",
            " [0.99907336]\n",
            " [0.99887182]\n",
            " [0.95705242]\n",
            " [0.99870827]\n",
            " [0.99876075]\n",
            " [0.95578216]\n",
            " [0.99857065]\n",
            " [0.99851293]\n",
            " [0.99841935]\n",
            " [0.99830874]]\n"
          ]
        }
      ]
    },
    {
      "cell_type": "code",
      "source": [
        "model.fit(x_scaled)"
      ],
      "metadata": {
        "colab": {
          "base_uri": "https://localhost:8080/"
        },
        "id": "QJnrqs5LxJhV",
        "outputId": "c41df70a-4c9c-4e62-ccf8-7d3a6293a93d"
      },
      "execution_count": null,
      "outputs": [
        {
          "output_type": "execute_result",
          "data": {
            "text/plain": [
              "KMeans(n_clusters=25, random_state=32)"
            ]
          },
          "metadata": {},
          "execution_count": 28
        }
      ]
    },
    {
      "cell_type": "code",
      "source": [
        "from sklearn.metrics import silhouette_samples, silhouette_score\n",
        "silhouette_score_average = silhouette_score(x_scaled, model.predict(x_scaled))\n",
        "print(silhouette_score_average)"
      ],
      "metadata": {
        "colab": {
          "base_uri": "https://localhost:8080/"
        },
        "id": "QDPEYIePxRYy",
        "outputId": "3ae0f9b4-4dda-4905-b169-b708311d0bdb"
      },
      "execution_count": null,
      "outputs": [
        {
          "output_type": "stream",
          "name": "stdout",
          "text": [
            "0.6067297369026806\n"
          ]
        }
      ]
    },
    {
      "cell_type": "markdown",
      "source": [
        "# ARIMA Model"
      ],
      "metadata": {
        "id": "t5awEjpmCik4"
      }
    },
    {
      "cell_type": "code",
      "source": [
        "from statsmodels.tsa.arima.model import ARIMA"
      ],
      "metadata": {
        "id": "lHswSJU2pL8D"
      },
      "execution_count": null,
      "outputs": []
    },
    {
      "cell_type": "code",
      "source": [
        "model_fit = ARIMA(f['Discharge Avg'], order=(1,0,0)).fit()\n",
        "print(model_fit.summary())"
      ],
      "metadata": {
        "colab": {
          "base_uri": "https://localhost:8080/"
        },
        "id": "qUE7skX6o6cg",
        "outputId": "9b03ef42-eb0f-4ecd-a79e-c0b862b5b7d3"
      },
      "execution_count": null,
      "outputs": [
        {
          "output_type": "stream",
          "name": "stdout",
          "text": [
            "                               SARIMAX Results                                \n",
            "==============================================================================\n",
            "Dep. Variable:          Discharge Avg   No. Observations:                  229\n",
            "Model:                 ARIMA(1, 0, 0)   Log Likelihood               -1005.286\n",
            "Date:                Thu, 02 Feb 2023   AIC                           2016.571\n",
            "Time:                        02:55:56   BIC                           2026.872\n",
            "Sample:                             0   HQIC                          2020.727\n",
            "                                - 229                                         \n",
            "Covariance Type:                  opg                                         \n",
            "==============================================================================\n",
            "                 coef    std err          z      P>|z|      [0.025      0.975]\n",
            "------------------------------------------------------------------------------\n",
            "const         77.6938    138.116      0.563      0.574    -193.009     348.397\n",
            "ar.L1          0.9838      0.012     82.702      0.000       0.960       1.007\n",
            "sigma2       374.9443     16.375     22.898      0.000     342.850     407.038\n",
            "===================================================================================\n",
            "Ljung-Box (L1) (Q):                  37.11   Jarque-Bera (JB):               755.73\n",
            "Prob(Q):                              0.00   Prob(JB):                         0.00\n",
            "Heteroskedasticity (H):             312.88   Skew:                             1.26\n",
            "Prob(H) (two-sided):                  0.00   Kurtosis:                        11.54\n",
            "===================================================================================\n",
            "\n",
            "Warnings:\n",
            "[1] Covariance matrix calculated using the outer product of gradients (complex-step).\n"
          ]
        }
      ]
    },
    {
      "cell_type": "code",
      "source": [
        "y_pred = model_fit.forecast()"
      ],
      "metadata": {
        "id": "s95lSCafpPkM"
      },
      "execution_count": null,
      "outputs": []
    },
    {
      "cell_type": "code",
      "source": [
        "from sklearn.metrics import mean_squared_error\n",
        "from math import sqrt"
      ],
      "metadata": {
        "id": "wed8E_54pkjF"
      },
      "execution_count": null,
      "outputs": []
    },
    {
      "cell_type": "markdown",
      "source": [
        "Here, we will be using ARIMA model to predict the discharge wrt water level. ARIMA is a form of regression analysis that indicates the strength of a dependent variable relative to other changing variables. The final objective of the model is to predict future time series movement by examining the differences between values in the series instead of through actual values. It is generally used for short term prediction of stock market.\n"
      ],
      "metadata": {
        "id": "v1Q6BxuErDZb"
      }
    },
    {
      "cell_type": "code",
      "source": [
        "test = np.array(test)\n",
        "history = [x for x in train]\n",
        "predictions = list()\n",
        "# walk-forward validation\n",
        "for t in range(len(test)):\n",
        "\tmodel = ARIMA(history, order=(1,0,0))\n",
        "\tmodel_fit = model.fit()\n",
        "\toutput = model_fit.forecast()\n",
        "\tyhat = output[0]\n",
        "\tpredictions.append(yhat)\n",
        "\tobs = test[t]\n",
        "\thistory.append(obs)\n",
        "\tprint('predicted=%f, expected=%f' % (yhat, obs))"
      ],
      "metadata": {
        "colab": {
          "base_uri": "https://localhost:8080/"
        },
        "id": "mhN60m4vpa-o",
        "outputId": "0c5a4d39-ff1b-4ed9-ef37-71cf301d27e2"
      },
      "execution_count": null,
      "outputs": [
        {
          "output_type": "stream",
          "name": "stdout",
          "text": [
            "predicted=43.580071, expected=43.149316\n",
            "predicted=39.994238, expected=38.936662\n",
            "predicted=36.130157, expected=42.273621\n",
            "predicted=39.515315, expected=52.411177\n",
            "predicted=49.762386, expected=83.600653\n",
            "predicted=82.273052, expected=108.341855\n"
          ]
        },
        {
          "output_type": "stream",
          "name": "stderr",
          "text": [
            "/usr/local/lib/python3.8/dist-packages/statsmodels/tsa/statespace/sarimax.py:966: UserWarning: Non-stationary starting autoregressive parameters found. Using zeros as starting parameters.\n",
            "  warn('Non-stationary starting autoregressive parameters'\n"
          ]
        },
        {
          "output_type": "stream",
          "name": "stdout",
          "text": [
            "predicted=107.681940, expected=148.200524\n",
            "predicted=147.739460, expected=212.762415\n",
            "predicted=212.316640, expected=268.240647\n",
            "predicted=267.825839, expected=302.231219\n",
            "predicted=301.854783, expected=341.543342\n",
            "predicted=341.191786, expected=364.541971\n",
            "predicted=364.211283, expected=396.258954\n",
            "predicted=395.945890, expected=361.077001\n",
            "predicted=360.704308, expected=304.224809\n",
            "predicted=303.639861, expected=276.794687\n",
            "predicted=276.104139, expected=302.967034\n",
            "predicted=302.347066, expected=318.058511\n",
            "predicted=317.477414, expected=251.470740\n",
            "predicted=250.467108, expected=213.438248\n",
            "predicted=212.194370, expected=213.751911\n",
            "predicted=212.529224, expected=212.551210\n",
            "predicted=211.343164, expected=161.757012\n",
            "predicted=160.386899, expected=147.834937\n",
            "predicted=146.528556, expected=125.166194\n",
            "predicted=123.986491, expected=118.573079\n",
            "predicted=117.456875, expected=161.091085\n",
            "predicted=159.655376, expected=231.057844\n",
            "predicted=229.455544, expected=262.789036\n",
            "predicted=261.329715, expected=235.334542\n",
            "predicted=233.712668, expected=237.894327\n",
            "predicted=236.316833, expected=256.728472\n",
            "predicted=255.252485, expected=318.617289\n",
            "predicted=317.340572, expected=433.214704\n",
            "predicted=432.122445, expected=362.293630\n",
            "predicted=360.614056, expected=342.027430\n",
            "predicted=340.238589, expected=328.821627\n",
            "predicted=326.929867, expected=322.201156\n",
            "predicted=320.337023, expected=313.332704\n",
            "predicted=311.439696, expected=276.056470\n",
            "predicted=273.977453, expected=211.341282\n",
            "predicted=209.190749, expected=168.802005\n",
            "predicted=166.966211, expected=176.355313\n",
            "predicted=174.452705, expected=180.000173\n",
            "predicted=178.081108, expected=184.569428\n",
            "predicted=182.626794, expected=169.624486\n",
            "predicted=167.839163, expected=200.877077\n",
            "predicted=198.801028, expected=231.395225\n",
            "predicted=229.152526, expected=247.861790\n",
            "predicted=245.585678, expected=285.937812\n",
            "predicted=283.657689, expected=268.378615\n",
            "predicted=266.103715, expected=236.835044\n",
            "predicted=234.613435, expected=262.810124\n",
            "predicted=260.529293, expected=305.485122\n",
            "predicted=303.227338, expected=327.852085\n",
            "predicted=325.693875, expected=279.970942\n",
            "predicted=277.645174, expected=253.031935\n",
            "predicted=250.762741, expected=260.508928\n",
            "predicted=258.244057, expected=283.765857\n",
            "predicted=281.480785, expected=275.194314\n",
            "predicted=272.945150, expected=247.757315\n",
            "predicted=245.585590, expected=227.765869\n",
            "predicted=225.709320, expected=224.942127\n",
            "predicted=222.922354, expected=230.129801\n",
            "predicted=228.096739, expected=219.047334\n",
            "predicted=217.102567, expected=204.714678\n",
            "predicted=202.895432, expected=199.669988\n",
            "predicted=197.760518, expected=188.336896\n",
            "predicted=186.576218, expected=174.482316\n"
          ]
        }
      ]
    },
    {
      "cell_type": "markdown",
      "source": [
        "Root mean squared error is an absolute error measure that squares the deviations to keep the positive and negative deviations from canceling one another out."
      ],
      "metadata": {
        "id": "2wApldTzr14u"
      }
    },
    {
      "cell_type": "markdown",
      "source": [
        "# Result of the best model (ARIMA)"
      ],
      "metadata": {
        "id": "Mu9UhWTPC9kN"
      }
    },
    {
      "cell_type": "code",
      "source": [
        "# evaluate forecasts\n",
        "rmse = sqrt(mean_squared_error(test, predictions))\n",
        "print('Test RMSE: %f' % rmse)\n",
        "# plot forecasts against actual outcomes\n",
        "plt.plot(test)\n",
        "plt.plot(predictions, color='red')\n",
        "plt.show()"
      ],
      "metadata": {
        "colab": {
          "base_uri": "https://localhost:8080/",
          "height": 288
        },
        "id": "zmn-Vbk2r7Jd",
        "outputId": "f9ac54b7-82df-4e04-e0ba-dcb0febc15bc"
      },
      "execution_count": null,
      "outputs": [
        {
          "output_type": "stream",
          "name": "stdout",
          "text": [
            "Test RMSE: 34.708551\n"
          ]
        },
        {
          "output_type": "display_data",
          "data": {
            "text/plain": [
              "<Figure size 432x288 with 1 Axes>"
            ],
            "image/png": "[encoded data removed]"
          },
          "metadata": {}
        }
      ]
    }
  ]
}